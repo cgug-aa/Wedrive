{
 "cells": [
  {
   "cell_type": "markdown",
   "metadata": {},
   "source": [
    "##### 파일 명세\n",
    "- udrt_kakao_cdh_old_new_place_category 컬렉션의 uuid 기준으로 mapped_category count"
   ]
  },
  {
   "cell_type": "code",
   "execution_count": 1,
   "metadata": {},
   "outputs": [],
   "source": [
    "import os\n",
    "from dotenv import load_dotenv\n",
    "from pymongo import MongoClient\n",
    "from collections import defaultdict"
   ]
  },
  {
   "cell_type": "code",
   "execution_count": 2,
   "metadata": {},
   "outputs": [],
   "source": [
    "# 데이터베이스 연결\n",
    "load_dotenv()\n",
    "client = MongoClient(os.getenv('DB_ADR'),\n",
    "          username=os.getenv('DB_USER'),\n",
    "          password=os.getenv('DB_PASSWORD'),\n",
    "          authSource=os.getenv('DB_AuthSource'),\n",
    "          authMechanism=os.getenv('DB_AuthMechanism'))\n",
    "db = client.get_database(os.getenv('DB_Collection'))\n",
    "\n",
    "#컬렉션 불러오기\n",
    "cl_udrt_kakao_cdh_old_new_place_category=db.get_collection(\"udrt_kakao_cdh_old_new_place_category\")"
   ]
  },
  {
   "cell_type": "code",
   "execution_count": 4,
   "metadata": {},
   "outputs": [
    {
     "name": "stdout",
     "output_type": "stream",
     "text": [
      "82344개의 문서를 mapped_category_frequency 삽입 완료.\n"
     ]
    }
   ],
   "source": [
    "# uuid를 기준으로 mapped_categroy의 값이 몇번 등장하는지 빈도수 조사\n",
    "\n",
    "count_dict=defaultdict(lambda: defaultdict(int))\n",
    "\n",
    "for doc in cl_udrt_kakao_cdh_old_new_place_category.find({},{\"uuid\":1, \"mapped_category\":1, \"_id\":0}):\n",
    "    count_dict[doc[\"uuid\"]][doc[\"mapped_category\"]]+=1\n",
    "\n",
    "new_documents=[]\n",
    "for uuid, dict_mapped_category_count in count_dict.items():\n",
    "    for mapped_category, count in dict_mapped_category_count.items():\n",
    "        new_documents.append({\n",
    "            \"uuid\":uuid,\n",
    "            \"mapped_category\": mapped_category,\n",
    "            \"frequency\": count\n",
    "        })\n",
    "\n",
    "# 최종 데이터를 new_collection에 삽입\n",
    "new_collection=db[\"mapped_category_frequency\"]\n",
    "if new_documents:\n",
    "    new_collection.insert_many(new_documents)\n",
    "\n",
    "print(f\"{len(new_documents)}개의 문서를 mapped_category_frequency 삽입 완료.\")"
   ]
  }
 ],
 "metadata": {
  "kernelspec": {
   "display_name": "wedrive",
   "language": "python",
   "name": "python3"
  },
  "language_info": {
   "codemirror_mode": {
    "name": "ipython",
    "version": 3
   },
   "file_extension": ".py",
   "mimetype": "text/x-python",
   "name": "python",
   "nbconvert_exporter": "python",
   "pygments_lexer": "ipython3",
   "version": "3.11.10"
  }
 },
 "nbformat": 4,
 "nbformat_minor": 2
}
