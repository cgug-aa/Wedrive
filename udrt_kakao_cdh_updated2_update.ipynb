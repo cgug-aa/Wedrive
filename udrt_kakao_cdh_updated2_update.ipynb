{
 "cells": [
  {
   "cell_type": "code",
   "execution_count": null,
   "metadata": {},
   "outputs": [],
   "source": [
    "import os\n",
    "from dotenv import load_dotenv\n",
    "from pymongo import MongoClient\n",
    "from pymongo import UpdateOne\n",
    "\n",
    "# 데이터베이스 연결\n",
    "load_dotenv()\n",
    "client = MongoClient(os.getenv('DB_ADR'),\n",
    "          username=os.getenv('DB_USER'),\n",
    "          password=os.getenv('DB_PASSWORD'),\n",
    "          authSource=os.getenv('DB_AuthSource'),\n",
    "          authMechanism=os.getenv('DB_AuthMechanism'))\n",
    "db = client.get_database(os.getenv('DB_Collection'))\n",
    "cl_udrt_kakao_cdh=db['udrt_kakao_cdh']\n",
    "cl_udrt_kakao_cdh_updated2 = db['udrt_kakao_cdh_updated2']"
   ]
  },
  {
   "cell_type": "code",
   "execution_count": null,
   "metadata": {},
   "outputs": [
    {
     "name": "stdout",
     "output_type": "stream",
     "text": [
      "151176개의 문서를 업데이트 완료!\n"
     ]
    }
   ],
   "source": [
    "# udrt_kakao_cdh_update2에서 _id가 일치하는 문서를 udrt_kakao_cdh에서 찾아서 'road_address_name' 추가\n",
    "cl_udrt_kakao_cdh_dict={doc[\"_id\"]: doc[\"road_address_name\"] for doc in cl_udrt_kakao_cdh.find({},{\"_id\": 1, \"road_address_name\": 1})}\n",
    "\n",
    "bulk_updates=[]\n",
    "for doc in cl_udrt_kakao_cdh_updated2.find():\n",
    "    doc_id=doc[\"_id\"]\n",
    "\n",
    "    road_address_name=cl_udrt_kakao_cdh_dict.get(doc_id)\n",
    "    bulk_updates.append({\n",
    "            \"filter\": {\"_id\": doc_id},\n",
    "            \"update\": {\"$set\": {\"road_address_name\": road_address_name}}\n",
    "        })  \n",
    "if bulk_updates:\n",
    "    cl_udrt_kakao_cdh_updated2.bulk_write([UpdateOne(update[\"filter\"], update[\"update\"]) for update in bulk_updates])\n",
    "print(f\"{len(bulk_updates)}개의 문서를 업데이트 완료!\")\n",
    "    "
   ]
  }
 ],
 "metadata": {
  "kernelspec": {
   "display_name": "wedrive",
   "language": "python",
   "name": "python3"
  },
  "language_info": {
   "codemirror_mode": {
    "name": "ipython",
    "version": 3
   },
   "file_extension": ".py",
   "mimetype": "text/x-python",
   "name": "python",
   "nbconvert_exporter": "python",
   "pygments_lexer": "ipython3",
   "version": "3.11.10"
  }
 },
 "nbformat": 4,
 "nbformat_minor": 2
}
