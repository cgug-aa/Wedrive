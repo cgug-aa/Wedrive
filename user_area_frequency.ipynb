{
 "cells": [
  {
   "cell_type": "markdown",
   "metadata": {},
   "source": [
    "##### user_coordinate_area_20~24에서 사용자별 지역 방문수 확인"
   ]
  },
  {
   "cell_type": "code",
   "execution_count": 1,
   "metadata": {},
   "outputs": [],
   "source": [
    "import os\n",
    "from dotenv import load_dotenv\n",
    "from pymongo import MongoClient"
   ]
  },
  {
   "cell_type": "code",
   "execution_count": 3,
   "metadata": {},
   "outputs": [],
   "source": [
    "# 데이터베이스 연결\n",
    "load_dotenv()\n",
    "client = MongoClient(os.getenv('DB_ADR'),\n",
    "          username=os.getenv('DB_USER'),\n",
    "          password=os.getenv('DB_PASSWORD'),\n",
    "          authSource=os.getenv('DB_AuthSource'),\n",
    "          authMechanism=os.getenv('DB_AuthMechanism'))\n",
    "db = client.get_database(os.getenv('DB_Collection'))"
   ]
  },
  {
   "cell_type": "code",
   "execution_count": 4,
   "metadata": {},
   "outputs": [],
   "source": [
    "#컬렉션 정보\n",
    "cl_user_coordinate_area_20_24=db.get_collection('user_coordinate_area_20~24')"
   ]
  },
  {
   "cell_type": "code",
   "execution_count": null,
   "metadata": {},
   "outputs": [
    {
     "data": {
      "text/plain": [
       "<pymongo.synchronous.command_cursor.CommandCursor at 0x1a4aec0a550>"
      ]
     },
     "execution_count": 13,
     "metadata": {},
     "output_type": "execute_result"
    }
   ],
   "source": [
    "#쿼리 작성\n",
    "cl_user_coordinate_area_20_24.aggregate([\n",
    "    {\n",
    "        \"$match\": {\n",
    "            \"region\": { \"$ne\": float('nan') }  # NaN 값 제외\n",
    "        }\n",
    "    },\n",
    "    {\n",
    "        \"$group\": {\n",
    "            \"_id\": {\n",
    "                \"uuid\": \"$uuid\",\n",
    "                \"region\": \"$region\",\n",
    "                \"destination_area\": \"$destination_area\"\n",
    "            },\n",
    "            \"count\": { \"$sum\": 1 }  # 빈도수 계산\n",
    "        }\n",
    "    },\n",
    "    {\n",
    "        \"$project\": {\n",
    "            \"_id\": 0, \n",
    "            \"uuid\": \"$_id.uuid\",\n",
    "            \"wide-area\": \"$_id.region\",\n",
    "            \"basic-unit\": \"$_id.destination_area\",\n",
    "            \"frequency\": \"$count\"\n",
    "        }\n",
    "    },\n",
    "    {\n",
    "        \"$out\": \"user_area_frequency_20~24\"  # 새로운 컬렉션으로 저장\n",
    "    }\n",
    "])"
   ]
  }
 ],
 "metadata": {
  "kernelspec": {
   "display_name": "wedrive",
   "language": "python",
   "name": "python3"
  },
  "language_info": {
   "codemirror_mode": {
    "name": "ipython",
    "version": 3
   },
   "file_extension": ".py",
   "mimetype": "text/x-python",
   "name": "python",
   "nbconvert_exporter": "python",
   "pygments_lexer": "ipython3",
   "version": "3.11.10"
  }
 },
 "nbformat": 4,
 "nbformat_minor": 2
}
