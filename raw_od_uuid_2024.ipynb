{
 "cells": [
  {
   "cell_type": "code",
   "execution_count": 1,
   "metadata": {},
   "outputs": [
    {
     "data": {
      "text/plain": [
       "'c:\\\\Users\\\\11\\\\Desktop\\\\LCG\\\\Programming\\\\project\\\\wedrive'"
      ]
     },
     "execution_count": 1,
     "metadata": {},
     "output_type": "execute_result"
    }
   ],
   "source": [
    "import os\n",
    "import pandas as pd\n",
    "from pymongo import MongoClient\n",
    "from dotenv import load_dotenv\n",
    "\n",
    "load_dotenv()\n",
    "os.chdir('../')\n",
    "os.getcwd()"
   ]
  },
  {
   "cell_type": "code",
   "execution_count": 19,
   "metadata": {},
   "outputs": [],
   "source": [
    "# 사용자 정보\n",
    "filedir1=os.getcwd()+'/data/od_uuid/2024_1/'\n",
    "filedir2=os.getcwd()+'/data/od_uuid/2024_2/'\n",
    "\n",
    "# 데이터프레임 칼럼 지정\n",
    "column_name=['uuid','time_begin','time_end','origin_lat','origin_lng','destination_lat','destination_lng','distance','heart','rank']\n",
    "\n",
    "client = MongoClient(os.getenv('DB_ADR'),\n",
    "          username=os.getenv('DB_USER'),\n",
    "          password=os.getenv('DB_PASSWORD'),\n",
    "          authSource=os.getenv('DB_AuthSource'),\n",
    "          authMechanism=os.getenv('DB_AuthMechanism'))\n",
    "\n",
    "database = client.get_database(os.getenv('DB_Collection'))\n",
    "collection=database.get_collection('raw_od_uuid_2024_2')"
   ]
  },
  {
   "cell_type": "code",
   "execution_count": 20,
   "metadata": {},
   "outputs": [],
   "source": [
    "# 데이터프레임에 칼럼명 지정\n",
    "def Make_column(csv_file):\n",
    "    raw_data=pd.read_csv(csv_file, header=None)\n",
    "    data=raw_data.values.tolist()\n",
    "    col_data=pd.DataFrame(data, columns=column_name)\n",
    "    return col_data"
   ]
  },
  {
   "cell_type": "code",
   "execution_count": 21,
   "metadata": {},
   "outputs": [],
   "source": [
    "# 데이터프레임에서 데이터를 추출하여 dictionary 형태로 변경한 후, MongoDB에 데이터 삽입\n",
    "def dataframe_to_dict(dataframe):\n",
    "    if len(dataframe)!=0:\n",
    "        collection.insert_many(dataframe.to_dict('records'))"
   ]
  },
  {
   "cell_type": "code",
   "execution_count": 22,
   "metadata": {},
   "outputs": [],
   "source": [
    "# 디렉터리 내 파일 모두 데이터베이스에 insert\n",
    "def insert_to_database(dir_path):\n",
    "    for file in os.listdir(dir_path):\n",
    "        if file.endswith(\".csv\"):\n",
    "            file_path=os.path.join(dir_path, file)\n",
    "            dataframe_to_dict(Make_column(file_path))"
   ]
  },
  {
   "cell_type": "code",
   "execution_count": 23,
   "metadata": {},
   "outputs": [],
   "source": [
    "insert_to_database(filedir1)\n",
    "insert_to_database(filedir2)"
   ]
  }
 ],
 "metadata": {
  "kernelspec": {
   "display_name": "wedrive",
   "language": "python",
   "name": "python3"
  },
  "language_info": {
   "codemirror_mode": {
    "name": "ipython",
    "version": 3
   },
   "file_extension": ".py",
   "mimetype": "text/x-python",
   "name": "python",
   "nbconvert_exporter": "python",
   "pygments_lexer": "ipython3",
   "version": "3.11.10"
  }
 },
 "nbformat": 4,
 "nbformat_minor": 2
}
