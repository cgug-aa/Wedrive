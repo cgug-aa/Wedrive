{
 "cells": [
  {
   "cell_type": "code",
   "execution_count": 2,
   "metadata": {},
   "outputs": [
    {
     "data": {
      "text/plain": [
       "True"
      ]
     },
     "execution_count": 2,
     "metadata": {},
     "output_type": "execute_result"
    }
   ],
   "source": [
    "from dotenv import load_dotenv\n",
    "from pymongo import MongoClient\n",
    "import pandas as pd\n",
    "import os\n",
    "\n",
    "load_dotenv()"
   ]
  },
  {
   "cell_type": "code",
   "execution_count": null,
   "metadata": {},
   "outputs": [],
   "source": [
    "client = MongoClient(os.getenv('DB_ADR'),\n",
    "          username=os.getenv('DB_USER'),\n",
    "          password=os.getenv('DB_PASSWORD'),\n",
    "          authSource=os.getenv('DB_AuthSource'),\n",
    "          authMechanism=os.getenv('DB_AuthMechanism'))\n",
    "\n",
    "db = client.get_database(os.getenv('DB_Collection'))\n",
    "cl_2022 = db.get_collection('raw_od_uuid_2022')\n",
    "cl_2023 = db.get_collection('raw_od_uuid_2023')\n",
    "cl_2024 = db.get_collection('raw_od_uuid_2024')"
   ]
  }
 ],
 "metadata": {
  "kernelspec": {
   "display_name": "wedrive",
   "language": "python",
   "name": "python3"
  },
  "language_info": {
   "codemirror_mode": {
    "name": "ipython",
    "version": 3
   },
   "file_extension": ".py",
   "mimetype": "text/x-python",
   "name": "python",
   "nbconvert_exporter": "python",
   "pygments_lexer": "ipython3",
   "version": "3.11.10"
  }
 },
 "nbformat": 4,
 "nbformat_minor": 2
}
