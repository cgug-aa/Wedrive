{
 "cells": [
  {
   "cell_type": "code",
   "execution_count": 1,
   "metadata": {},
   "outputs": [],
   "source": [
    "from dotenv import load_dotenv\n",
    "from pymongo import MongoClient\n",
    "import pandas as pd\n",
    "import os"
   ]
  },
  {
   "cell_type": "code",
   "execution_count": 2,
   "metadata": {},
   "outputs": [],
   "source": [
    "# 데이터베이스 연결\n",
    "load_dotenv()\n",
    "client = MongoClient(os.getenv('DB_ADR'),\n",
    "          username=os.getenv('DB_USER'),\n",
    "          password=os.getenv('DB_PASSWORD'),\n",
    "          authSource=os.getenv('DB_AuthSource'),\n",
    "          authMechanism=os.getenv('DB_AuthMechanism'))\n",
    "\n",
    "db = client.get_database(os.getenv('DB_Collection'))"
   ]
  },
  {
   "cell_type": "code",
   "execution_count": 28,
   "metadata": {},
   "outputs": [],
   "source": [
    "# 컬렉션에서 시간 필터링('11', '12', '18', '19')\n",
    "def timefilter(raw_cl, timefiltered_cl):\n",
    "    target_values=['11', '12', '18', '19']\n",
    "    regex_pattern = f\"^.{{11}}({'|'.join(target_values)}).*$\"\n",
    "\n",
    "    tgt_data=list(raw_cl.find({\"time_end\": {\"$regex\":regex_pattern}},{\n",
    "        '_id':False,\n",
    "        'uuid':True,\n",
    "        'time_end':True,\n",
    "        'destination_lat':True,\n",
    "        'destination_lng':True}))\n",
    "    print(len(tgt_data))\n",
    "    timefiltered_cl.insert_many(tgt_data)\n",
    "\n"
   ]
  },
  {
   "cell_type": "code",
   "execution_count": null,
   "metadata": {},
   "outputs": [],
   "source": [
    "#2020~23년도 필터링 후 데이터 삽입\n",
    "raw_cls=['raw_od_uuid_2023', 'raw_od_uuid_2022', 'raw_od_uuid_2021', 'raw_od_uuid_2020']\n",
    "timefilterd_cls=['timefiltered_2023', 'timefiltered_2022', 'timefiltered_2021', 'timefiltered_2020']\n",
    "\n",
    "for raw, time in zip(raw_cls, timefilterd_cls):\n",
    "    raw_cl = db.get_collection(raw)\n",
    "    timefiltered_cl = db.get_collection(time)\n",
    "    timefilter(raw_cl,timefiltered_cl)"
   ]
  },
  {
   "cell_type": "markdown",
   "metadata": {},
   "source": [
    "##### 필터링 데이터 개수\n",
    "||2023|2022|2021|2020|\n",
    "|---|---|---|---|---|\n",
    "|개수|5,909,489|7,527,799|8,627,310|8,907,064|"
   ]
  }
 ],
 "metadata": {
  "kernelspec": {
   "display_name": "wedrive",
   "language": "python",
   "name": "python3"
  },
  "language_info": {
   "codemirror_mode": {
    "name": "ipython",
    "version": 3
   },
   "file_extension": ".py",
   "mimetype": "text/x-python",
   "name": "python",
   "nbconvert_exporter": "python",
   "pygments_lexer": "ipython3",
   "version": "3.11.10"
  }
 },
 "nbformat": 4,
 "nbformat_minor": 2
}
