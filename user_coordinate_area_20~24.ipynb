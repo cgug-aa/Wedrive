{
 "cells": [
  {
   "cell_type": "markdown",
   "metadata": {},
   "source": [
    "##### `raw_od_uuid 20~24`를 바탕으로 사용자의 지역별 빈도수 컬렉션 생성\n",
    "shp 파일이 로컬에 있기에, DB의 파일을 로컬에서 처리 후, 병합할 예정.\n",
    "\n",
    "1. 20년 데이터로 빈도수를 조사한 새로운 컬렉션 생성    \n",
    "2. 21~24년 데이터로 각각 빈도수 구하고, 구한 빈도수를 새로운 컬렉션에 삽입    \n",
    "    i. 삽입할 때 uuid와 region이 동일한 데이터는 컬렉션에 빈도수만 추가    \n",
    "    ii. 없다면, 새로 레코드 생성"
   ]
  },
  {
   "cell_type": "code",
   "execution_count": null,
   "metadata": {},
   "outputs": [],
   "source": [
    "import os\n",
    "from dotenv import load_dotenv\n",
    "from pymongo import MongoClient\n",
    "import geopandas as gpd\n",
    "import pandas as pd\n",
    "from shapely.geometry import Point\n",
    "from pymongo import InsertOne"
   ]
  },
  {
   "cell_type": "code",
   "execution_count": null,
   "metadata": {},
   "outputs": [],
   "source": [
    "# 데이터베이스 연결\n",
    "load_dotenv()\n",
    "client = MongoClient(os.getenv('DB_ADR'),\n",
    "          username=os.getenv('DB_USER'),\n",
    "          password=os.getenv('DB_PASSWORD'),\n",
    "          authSource=os.getenv('DB_AuthSource'),\n",
    "          authMechanism=os.getenv('DB_AuthMechanism'))\n",
    "db = client.get_database(os.getenv('DB_Collection'))\n",
    "\n",
    "#컬렉션 불러오기 \n",
    "#cl_raw_od_uuid_2020=db.get_collection(\"raw_od_uuid_2020\")  #35,653,705\n",
    "#cl_raw_od_uuid_2021=db.get_collection(\"raw_od_uuid_2021\")  #33,920,055\n",
    "#cl_raw_od_uuid_2022=db.get_collection(\"raw_od_uuid_2022\")  #29,558,249\n",
    "#cl_raw_od_uuid_2023=db.get_collection(\"raw_od_uuid_2023\")  #23,412,023\n",
    "cl_raw_od_uuid_2024=db.get_collection(\"raw_od_uuid_2024\")   #11,781,589"
   ]
  },
  {
   "cell_type": "code",
   "execution_count": null,
   "metadata": {},
   "outputs": [],
   "source": [
    "# 센서스 데이터 로드\n",
    "os.chdir('../')\n",
    "location_label_path=os.getcwd()+'/data/행정구역구분/BND_SIGUNGU_PG.shp'\n",
    "# 행정동 데이터 좌표계 변환\n",
    "location_label=gpd.read_file(location_label_path, encoding='euc-kr')\n",
    "location_label.to_crs(epsg=4326, inplace=True)\n",
    "\n",
    "# 특별시 및 광역시 전처리\n",
    "metropolitan_city={'11':'서울', '21':'부산', '22':'대구', '23':'인천', '24':'광주', '25':'대전', '26':'울산'}\n",
    "def update_dong(row):\n",
    "    if row['SIGUNGU_CD'][:2] in metropolitan_city.keys():\n",
    "        region_prefix = metropolitan_city.get(row['SIGUNGU_CD'][:2], '')\n",
    "        if region_prefix:\n",
    "            return f\"{region_prefix} {row['SIGUNGU_NM']}\"\n",
    "    return row['SIGUNGU_NM']\n",
    "\n",
    "# 센서스 데이터 정보 불러오기\n",
    "census_col=['시도코드','시도명칭','시군구코드','시군구명칭','읍면동코드','읍면동명칭']\n",
    "raw_census=pd.read_excel(os.getcwd()+'/data/행정구역구분/센서스_공간정보_지역_코드.xlsx')\n",
    "def make_census_dict(raw_census):\n",
    "    raw_census=raw_census.drop(index=0, axis=1)\n",
    "    data=raw_census.values.tolist()\n",
    "    census=pd.DataFrame(data, columns=census_col)\n",
    "    census=census.set_index('시도코드')\n",
    "    census=census['시도명칭']\n",
    "    census=census.drop_duplicates()\n",
    "    census_dict=census.to_dict()\n",
    "    return census_dict\n",
    "census_dict=make_census_dict(raw_census)\n",
    "\n",
    "#지역 구분 칼럼 추가\n",
    "def Region_col_add(row):\n",
    "    if int(row['SIGUNGU_CD'][:2]) in census_dict.keys():\n",
    "        region = census_dict.get(int(row['SIGUNGU_CD'][:2]), '')\n",
    "        return region"
   ]
  },
  {
   "cell_type": "code",
   "execution_count": null,
   "metadata": {},
   "outputs": [],
   "source": [
    "# 사용할 geopandas 데이터프레임 전처리\n",
    "location_label['SIGUNGU_NM'] = location_label.apply(update_dong, axis=1)\n",
    "location_label['Region'] = location_label.apply(Region_col_add, axis=1)\n",
    "location_label"
   ]
  },
  {
   "cell_type": "code",
   "execution_count": null,
   "metadata": {},
   "outputs": [],
   "source": [
    "data=[]\n",
    "for doc in cl_raw_od_uuid_2024.find({}, {\"uuid\": 1, 'destination_lng':1, 'destination_lat':1 ,\"_id\": 0}):\n",
    "    data.append({\"uuid\":doc[\"uuid\"], \"destination_lat\":doc[\"destination_lat\"], \"destination_lng\":doc[\"destination_lng\"], \"geometry\": Point(doc[\"destination_lng\"], doc[\"destination_lat\"])})"
   ]
  },
  {
   "cell_type": "code",
   "execution_count": null,
   "metadata": {},
   "outputs": [],
   "source": [
    "gdf = gpd.GeoDataFrame(data, geometry=\"geometry\", crs=\"EPSG:4326\")\n",
    "del data\n",
    "gdf = gpd.sjoin(gdf, location_label, how=\"left\", predicate=\"within\")\n",
    "gdf = gdf[['uuid','destination_lat', 'destination_lng', 'Region', 'SIGUNGU_NM']]\n",
    "gdf=gdf.rename(columns={'Region':'region', 'SIGUNGU_NM':'destination_area'})\n",
    "gdf"
   ]
  },
  {
   "cell_type": "code",
   "execution_count": null,
   "metadata": {},
   "outputs": [],
   "source": [
    "# 디비에 데이터 삽입\n",
    "cl_user_coordinate_area=db.get_collection('user_coordinate_area_20~24')\n",
    "\n",
    "batch_size = 5000\n",
    "data_iter = iter(gdf.to_dict('records'))  # 메모리 절약을 위한 이터레이터 변환\n",
    "\n",
    "while True:\n",
    "    batch = [InsertOne(doc) for doc in [next(data_iter, None) for _ in range(batch_size)] if doc is not None]\n",
    "    if not batch:\n",
    "        break\n",
    "    cl_user_coordinate_area.bulk_write(batch)"
   ]
  }
 ],
 "metadata": {
  "kernelspec": {
   "display_name": "wedrive",
   "language": "python",
   "name": "python3"
  },
  "language_info": {
   "codemirror_mode": {
    "name": "ipython",
    "version": 3
   },
   "file_extension": ".py",
   "mimetype": "text/x-python",
   "name": "python",
   "nbconvert_exporter": "python",
   "pygments_lexer": "ipython3",
   "version": "3.11.10"
  }
 },
 "nbformat": 4,
 "nbformat_minor": 2
}
