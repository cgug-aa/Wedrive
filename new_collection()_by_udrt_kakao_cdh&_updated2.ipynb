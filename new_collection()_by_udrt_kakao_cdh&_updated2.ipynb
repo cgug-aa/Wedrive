{
 "cells": [
  {
   "cell_type": "markdown",
   "metadata": {},
   "source": [
    "##### 파일 명세\n",
    "- udrt_kakao_cdh와 udrt_kakao_cdh_updated2를 [사업장명]을 기준으로 새로운 컬렉션 생성\n",
    "- 새로운 컬렉션(udrt_kakao_cdh_old&new_place_category) 필드=[uuid, category_name, place_name, mapped_category]"
   ]
  },
  {
   "cell_type": "code",
   "execution_count": null,
   "metadata": {},
   "outputs": [],
   "source": [
    "import os\n",
    "from dotenv import load_dotenv\n",
    "from pymongo import MongoClient\n"
   ]
  },
  {
   "cell_type": "code",
   "execution_count": null,
   "metadata": {},
   "outputs": [],
   "source": [
    "# 데이터베이스 연결\n",
    "load_dotenv()\n",
    "client = MongoClient(os.getenv('DB_ADR'),\n",
    "          username=os.getenv('DB_USER'),\n",
    "          password=os.getenv('DB_PASSWORD'),\n",
    "          authSource=os.getenv('DB_AuthSource'),\n",
    "          authMechanism=os.getenv('DB_AuthMechanism'))\n",
    "db = client.get_database(os.getenv('DB_Collection'))\n",
    "\n",
    "#컬렉션 불러오기\n",
    "cl_udrt_kakao_cdh=db.get_collection(\"udrt_kakao_cdh\")\n",
    "cl_udrt_kakao_cdh_updated2=db.get_collection(\"udrt_kakao_cdh_updated2\")"
   ]
  },
  {
   "cell_type": "code",
   "execution_count": null,
   "metadata": {},
   "outputs": [],
   "source": [
    "# udrt_kakao_cdh_updated2의 값 딕셔너리로 변환\n",
    "dict_udrt_kakao_cdh_updated2 = {doc[\"place_name\"]: doc[\"mapped_category\"] for doc in cl_udrt_kakao_cdh_updated2.find({}, {\"place_name\": 1, \"mapped_category\": 1, \"_id\": 0})}\n",
    "print(f\"udrt_kakao_cdh_updated2의 값 딕셔너리로 변환 완료.\")\n",
    "\n",
    "# udrt_kakao_cdh 가져와서 필드 병합 후 새로운 리스트 생성\n",
    "new_documents = []\n",
    "for doc in cl_udrt_kakao_cdh.find({}, {\"uuid\": 1, \"category_name\": 1, \"place_name\": 0, \"_id\": 0}):\n",
    "    place_name = doc[\"place_name\"]\n",
    "    if place_name in dict_udrt_kakao_cdh_updated2:  # 필드1이 일치하는 경우\n",
    "        new_documents.append({\n",
    "            \"uuid\": doc[\"uuid\"],\n",
    "            \"category_name\":doc[\"category_name\"],\n",
    "            \"place_name\": doc[\"place_name\"],\n",
    "            \"mapped_category\": dict_udrt_kakao_cdh_updated2[\"mapped_category\"]\n",
    "        })\n",
    "        print(f\"{len(new_documents)}개의 문서 생성됨\")\n",
    "\n",
    "\n",
    "# 최종 데이터를 new_collection에 삽입\n",
    "new_collection=db[\"udrt_kakao_cdh_old&new_place_category\"]\n",
    "if new_documents:\n",
    "    new_collection.insert_many(new_documents)\n",
    "\n",
    "print(f\"{len(new_documents)}개의 문서를 new_collection에 삽입 완료.\")"
   ]
  },
  {
   "cell_type": "code",
   "execution_count": null,
   "metadata": {},
   "outputs": [],
   "source": []
  }
 ],
 "metadata": {
  "kernelspec": {
   "display_name": "wedrive",
   "language": "python",
   "name": "python3"
  },
  "language_info": {
   "codemirror_mode": {
    "name": "ipython",
    "version": 3
   },
   "file_extension": ".py",
   "mimetype": "text/x-python",
   "name": "python",
   "nbconvert_exporter": "python",
   "pygments_lexer": "ipython3",
   "version": "3.11.10"
  }
 },
 "nbformat": 4,
 "nbformat_minor": 2
}
