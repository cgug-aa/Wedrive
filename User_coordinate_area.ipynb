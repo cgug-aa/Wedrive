{
 "cells": [
  {
   "cell_type": "markdown",
   "metadata": {},
   "source": [
    "#### MongoDB에 데이터 insert"
   ]
  },
  {
   "cell_type": "markdown",
   "metadata": {},
   "source": [
    "필요 라이브러리 사전 설치"
   ]
  },
  {
   "cell_type": "code",
   "execution_count": null,
   "metadata": {},
   "outputs": [],
   "source": [
    "#%pip install wheel\n",
    "#%pip install pipwin\n",
    "#%pip install geopandas\n",
    "#%pip install openpyxl\n",
    "#%pip install python-dotenv"
   ]
  },
  {
   "cell_type": "code",
   "execution_count": 1,
   "metadata": {},
   "outputs": [],
   "source": [
    "import os\n",
    "import geopandas as gpd\n",
    "import pandas as pd\n",
    "from fiona.crs import from_epsg\n",
    "from shapely.geometry import Point\n",
    "from pymongo import MongoClient\n",
    "from dotenv import load_dotenv"
   ]
  },
  {
   "cell_type": "code",
   "execution_count": 2,
   "metadata": {},
   "outputs": [
    {
     "data": {
      "text/plain": [
       "'c:\\\\Users\\\\11\\\\Desktop\\\\LCG\\\\Programming\\\\project\\\\wedrive'"
      ]
     },
     "execution_count": 2,
     "metadata": {},
     "output_type": "execute_result"
    }
   ],
   "source": [
    "load_dotenv()\n",
    "os.chdir('../')\n",
    "os.getcwd()"
   ]
  },
  {
   "cell_type": "code",
   "execution_count": 3,
   "metadata": {},
   "outputs": [],
   "source": [
    "# 센서스 데이터\n",
    "location_label_path=os.getcwd()+'/data/행정구역구분/BND_SIGUNGU_PG.shp'\n",
    "\n",
    "# 데이터프레임 칼럼 지정\n",
    "column_name=['uuid','time_begin','time_end','origin_lat','origin_lng','destination_lat','destination_lng','distance','heart','rank']"
   ]
  },
  {
   "cell_type": "code",
   "execution_count": null,
   "metadata": {},
   "outputs": [],
   "source": [
    "# 행정동 데이터 좌표계 변환\n",
    "location_label=gpd.read_file(location_label_path, encoding='euc-kr')\n",
    "location_label.to_crs(epsg=4326, inplace=True)\n",
    "\n",
    "#ts=location_label['SIGUNGU_NM'].value_counts().head(10)\n",
    "location_label[50:100]"
   ]
  },
  {
   "cell_type": "code",
   "execution_count": 5,
   "metadata": {},
   "outputs": [],
   "source": [
    "# 특별시 및 광역시 전처리\n",
    "metropolitan_city={'11':'서울', '21':'부산', '22':'대구', '23':'인천', '24':'광주', '25':'대전', '26':'울산'}\n",
    "def update_dong(row):\n",
    "    if row['SIGUNGU_CD'][:2] in metropolitan_city.keys():\n",
    "        region_prefix = metropolitan_city.get(row['SIGUNGU_CD'][:2], '')\n",
    "        if region_prefix:\n",
    "            return f\"{region_prefix} {row['SIGUNGU_NM']}\"\n",
    "    return row['SIGUNGU_NM']\n",
    "\n",
    "# 센서스 데이터 정보 불러오기\n",
    "census_col=['시도코드','시도명칭','시군구코드','시군구명칭','읍면동코드','읍면동명칭']\n",
    "raw_census=pd.read_excel(os.getcwd()+'/data/행정구역구분/센서스_공간정보_지역_코드.xlsx')\n",
    "def make_census_dict(raw_census):\n",
    "    raw_census=raw_census.drop(index=0, axis=1)\n",
    "    data=raw_census.values.tolist()\n",
    "    census=pd.DataFrame(data, columns=census_col)\n",
    "    census=census.set_index('시도코드')\n",
    "    census=census['시도명칭']\n",
    "    census=census.drop_duplicates()\n",
    "    census_dict=census.to_dict()\n",
    "    return census_dict\n",
    "census_dict=make_census_dict(raw_census)\n",
    "\n",
    "#지역 구분 칼럼 추가\n",
    "def Region_col_add(row):\n",
    "    if int(row['SIGUNGU_CD'][:2]) in census_dict.keys():\n",
    "        region = census_dict.get(int(row['SIGUNGU_CD'][:2]), '')\n",
    "        return region\n",
    "\n"
   ]
  },
  {
   "cell_type": "code",
   "execution_count": null,
   "metadata": {},
   "outputs": [],
   "source": [
    "location_label['SIGUNGU_NM'] = location_label.apply(update_dong, axis=1)\n",
    "location_label['Region'] = location_label.apply(Region_col_add, axis=1)\n",
    "location_label"
   ]
  },
  {
   "cell_type": "code",
   "execution_count": 4,
   "metadata": {},
   "outputs": [],
   "source": [
    "# raw data에서 칼럼 추가하기\n",
    "def Make_column(csv_file):\n",
    "    raw_data=pd.read_csv(csv_file)\n",
    "    data=raw_data.values.tolist()\n",
    "    col_data=pd.DataFrame(data, columns=column_name)\n",
    "    return col_data\n",
    "\n",
    "# 데이터프레임에 destination_loc 칼럼 추가\n",
    "def Make_column_destination_loc(csv_file):\n",
    "    csv_file=Make_column(csv_file)\n",
    "\n",
    "    #종료 위치 Point 객체\n",
    "    end_geometry_Point=gpd.points_from_xy(csv_file['destination_lng'], csv_file['destination_lat'])\n",
    "    coulumns = ['destination_lat', 'destination_lng']\n",
    "    destination_gdf_data = gpd.GeoDataFrame(csv_file[coulumns], geometry=end_geometry_Point, crs=from_epsg(4326))\n",
    "    destination_gdf_data['end_geometry'] = destination_gdf_data.apply(lambda row : Point([row['destination_lng'], row['destination_lat']]), axis=1)\n",
    "    \n",
    "    # Point 객체에 지역을 매핑시킨 데이터프레임 생성\n",
    "    df=gpd.sjoin(destination_gdf_data, location_label)\n",
    "    df.drop(columns=['index_right'], axis=1, inplace=True)\n",
    "    #최종 데이터 프레임 생성\n",
    "    csv_file['destination_area']=df['SIGUNGU_NM']\n",
    "    csv_file['region']=df['Region']\n",
    "    final_csv=csv_file[['uuid','destination_lat','destination_lng','region','destination_area']]\n",
    "    return final_csv\n"
   ]
  },
  {
   "cell_type": "code",
   "execution_count": null,
   "metadata": {},
   "outputs": [],
   "source": [
    "filename=os.getcwd()+'/data/od_uuid/2024_1/00a152a698f34dc4b75112faef00b879.csv'\n",
    "test_dataframe=Make_column_destination_loc(filename)\n",
    "test_dataframe"
   ]
  },
  {
   "cell_type": "code",
   "execution_count": 5,
   "metadata": {},
   "outputs": [],
   "source": [
    "client = MongoClient(os.getenv('DB_ADR'),\n",
    "          username=os.getenv('DB_USER'),\n",
    "          password=os.getenv('DB_PASSWORD'),\n",
    "          authSource=os.getenv('DB_AuthSource'),\n",
    "          authMechanism=os.getenv('DB_AuthMechanism'))\n",
    "\n",
    "db = client.get_database(os.getenv('DB_Collection'))\n",
    "cl = db.get_collection('user_coordinate_area_2')\n",
    "\n",
    "# 데이터프레임에서 데이터를 추출하여 dictionary 형태로 변경한 후, MongoDB에 데이터 삽입\n",
    "def dataframe_to_dict(dataframe, collection):\n",
    "    if len(dataframe)!=0:\n",
    "        collection.insert_many(dataframe.to_dict('records'))"
   ]
  },
  {
   "cell_type": "code",
   "execution_count": 6,
   "metadata": {},
   "outputs": [],
   "source": [
    "# 디렉터리 내의 파일의 원본을 데이터베이스에 insert\n",
    "def insert_to_database_raw_data(dir_path, collection):\n",
    "    for file in os.listdir(dir_path):\n",
    "        if file.endswith(\".csv\"):\n",
    "            file_path=os.path.join(dir_path, file)\n",
    "            dataframe_to_dict(Make_column(file_path), collection)\n",
    "\n",
    "# 디렉터리 내 파일 모두 데이터베이스에 insert\n",
    "def insert_to_database(dir_path,collection):\n",
    "    for file in os.listdir(dir_path):\n",
    "        if file.endswith(\".csv\"):\n",
    "            file_path=os.path.join(dir_path, file)\n",
    "            dataframe_to_dict(Make_column_destination_loc(file_path), collection)\n"
   ]
  },
  {
   "cell_type": "code",
   "execution_count": 7,
   "metadata": {},
   "outputs": [],
   "source": [
    "# 디렉터리 경로\n",
    "path_directory_2020_1=os.getcwd()+'/data/od_uuid/2020_1/'\n",
    "path_directory_2020_2=os.getcwd()+'/data/od_uuid/2020_2/'\n",
    "path_directory_2021_1=os.getcwd()+'/data/od_uuid/2021_1/'\n",
    "path_directory_2021_2=os.getcwd()+'/data/od_uuid/2021_2/'\n",
    "\n",
    "# DB 컬렉션 설정\n",
    "cl_raw_2020 = db.get_collection('raw_od_uuid_2020')\n",
    "cl_raw_2021 = db.get_collection('raw_od_uuid_2021')\n",
    "\n",
    "# 원본 데이터 DB에 삽입\n",
    "insert_to_database_raw_data(path_directory_2020_1, cl_raw_2020)\n",
    "insert_to_database_raw_data(path_directory_2020_2, cl_raw_2020)\n",
    "\n",
    "insert_to_database_raw_data(path_directory_2021_1, cl_raw_2021)\n",
    "insert_to_database_raw_data(path_directory_2021_2, cl_raw_2021)\n"
   ]
  },
  {
   "cell_type": "code",
   "execution_count": null,
   "metadata": {},
   "outputs": [],
   "source": [
    "# 도착지 데이터 인서트\n",
    "#insert_to_database(path_directory)\n",
    "#insert_to_database(path_directory2)"
   ]
  },
  {
   "cell_type": "code",
   "execution_count": 21,
   "metadata": {},
   "outputs": [],
   "source": [
    "# 유저 빈도수 조사\n",
    "cl = db.get_collection('user_area_frequency_2')\n",
    "\n",
    "def frequency(dataframe):\n",
    "    freq=dataframe[['region','destination_area']].value_counts().reset_index()\n",
    "    freq.columns=['wide-area','basic-unit', 'frequency']\n",
    "    uuid=dataframe['uuid'][0]\n",
    "    freq['uuid']=uuid\n",
    "    final_df=freq[['uuid','wide-area','basic-unit', 'frequency']]\n",
    "    return final_df\n",
    "\n",
    "def insert_freq_to_database(dir_path):\n",
    "    for file in os.listdir(dir_path):\n",
    "        if file.endswith(\".csv\"):\n",
    "            file_path=os.path.join(dir_path, file)\n",
    "            result_df=Make_column_destination_loc(file_path)\n",
    "            if len(result_df)!=0:\n",
    "                dataframe_to_dict(frequency(result_df))"
   ]
  },
  {
   "cell_type": "code",
   "execution_count": null,
   "metadata": {},
   "outputs": [],
   "source": [
    "#insert_freq_to_database(path_directory)\n",
    "#insert_freq_to_database(path_directory2)"
   ]
  }
 ],
 "metadata": {
  "kernelspec": {
   "display_name": "wedrive",
   "language": "python",
   "name": "python3"
  },
  "language_info": {
   "codemirror_mode": {
    "name": "ipython",
    "version": 3
   },
   "file_extension": ".py",
   "mimetype": "text/x-python",
   "name": "python",
   "nbconvert_exporter": "python",
   "pygments_lexer": "ipython3",
   "version": "3.11.10"
  }
 },
 "nbformat": 4,
 "nbformat_minor": 2
}
