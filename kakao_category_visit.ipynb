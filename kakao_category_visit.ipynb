{
 "cells": [
  {
   "cell_type": "markdown",
   "metadata": {},
   "source": [
    "##### 파일 명세\n",
    "- udrt_kakao_cdh와 udrt_kakao_cdh_updated2를 [사업장명]을 기준으로 새로운 컬렉션 생성\n",
    "- 새로운 컬렉션(udrt_kakao_cdh_old_new_place_category) 필드=[uuid, category_name, place_name, mapped_category]"
   ]
  },
  {
   "cell_type": "code",
   "execution_count": null,
   "metadata": {},
   "outputs": [],
   "source": [
    "import os\n",
    "from dotenv import load_dotenv\n",
    "from pymongo import MongoClient, UpdateMany\n",
    "import geopandas as gpd\n",
    "import pandas as pd\n",
    "from fiona.crs import from_epsg\n",
    "from shapely.geometry import Point"
   ]
  },
  {
   "cell_type": "code",
   "execution_count": null,
   "metadata": {},
   "outputs": [],
   "source": [
    "# 데이터베이스 연결\n",
    "load_dotenv()\n",
    "client = MongoClient(os.getenv('DB_ADR'),\n",
    "          username=os.getenv('DB_USER'),\n",
    "          password=os.getenv('DB_PASSWORD'),\n",
    "          authSource=os.getenv('DB_AuthSource'),\n",
    "          authMechanism=os.getenv('DB_AuthMechanism'))\n",
    "db = client.get_database(os.getenv('DB_Collection'))\n",
    "\n",
    "#컬렉션 불러오기 \n",
    "cl_udrt_kakao_cdh=db.get_collection(\"udrt_kakao_cdh\")\n",
    "cl_udrt_kakao_cdh_updated2=db.get_collection(\"udrt_kakao_cdh_updated2\")"
   ]
  },
  {
   "cell_type": "code",
   "execution_count": null,
   "metadata": {},
   "outputs": [],
   "source": [
    "# udrt_kakao_cdh_updated2의 값 딕셔너리로 변환\n",
    "dict_udrt_kakao_cdh_updated2 = {doc[\"place_name\"]: doc[\"mapped_category\"] for doc in cl_udrt_kakao_cdh_updated2.find({}, {\"place_name\": 1, \"mapped_category\": 1, \"_id\": 0})}\n",
    "print(f\"udrt_kakao_cdh_updated2의 값 딕셔너리로 변환 완료.\")\n",
    "\n",
    "# udrt_kakao_cdh 가져와서 필드 병합 후 새로운 리스트 생성\n",
    "new_documents = []\n",
    "for doc in cl_udrt_kakao_cdh.find({}, {\"uuid\": 1, \"category_name\": 1, \"place_name\": 1, \"_id\": 0}):\n",
    "    place_name = doc[\"place_name\"]\n",
    "    category_name = doc[\"category_name\"]\n",
    "    if place_name in dict_udrt_kakao_cdh_updated2:  # 필드1이 일치하는 경우\n",
    "        new_documents.append({\n",
    "            \"uuid\": doc[\"uuid\"],\n",
    "            \"category_name\":doc[\"category_name\"],\n",
    "            \"place_name\": doc[\"place_name\"],\n",
    "            \"mapped_category\": dict_udrt_kakao_cdh_updated2[\"mapped_category\"]\n",
    "        })\n",
    "        print(f\"{len(new_documents)}개의 문서 생성됨\")\n",
    "\n",
    "\n",
    "# 최종 데이터를 new_collection에 삽입\n",
    "new_collection=db[\"udrt_kakao_cdh_old_new_place_category\"]\n",
    "if new_documents:\n",
    "    new_collection.insert_many(new_documents)\n",
    "\n",
    "print(f\"{len(new_documents)}개의 문서를 udrt_kakao_cdh_old_new_place_category에 삽입 완료.\")"
   ]
  },
  {
   "cell_type": "markdown",
   "metadata": {},
   "source": [
    "#### basic-unit 필드 추가"
   ]
  },
  {
   "cell_type": "code",
   "execution_count": null,
   "metadata": {},
   "outputs": [],
   "source": [
    "# 센서스 데이터 로드\n",
    "os.chdir('../')\n",
    "location_label_path=os.getcwd()+'/data/행정구역구분/BND_SIGUNGU_PG.shp'\n",
    "# 행정동 데이터 좌표계 변환\n",
    "location_label=gpd.read_file(location_label_path, encoding='euc-kr')\n",
    "location_label.to_crs(epsg=4326, inplace=True)\n",
    "\n",
    "# 특별시 및 광역시 전처리\n",
    "metropolitan_city={'11':'서울', '21':'부산', '22':'대구', '23':'인천', '24':'광주', '25':'대전', '26':'울산'}\n",
    "def update_dong(row):\n",
    "    if row['SIGUNGU_CD'][:2] in metropolitan_city.keys():\n",
    "        region_prefix = metropolitan_city.get(row['SIGUNGU_CD'][:2], '')\n",
    "        if region_prefix:\n",
    "            return f\"{region_prefix} {row['SIGUNGU_NM']}\"\n",
    "    return row['SIGUNGU_NM']\n",
    "\n",
    "# 센서스 데이터 정보 불러오기\n",
    "census_col=['시도코드','시도명칭','시군구코드','시군구명칭','읍면동코드','읍면동명칭']\n",
    "raw_census=pd.read_excel(os.getcwd()+'/data/행정구역구분/센서스_공간정보_지역_코드.xlsx')\n",
    "def make_census_dict(raw_census):\n",
    "    raw_census=raw_census.drop(index=0, axis=1)\n",
    "    data=raw_census.values.tolist()\n",
    "    census=pd.DataFrame(data, columns=census_col)\n",
    "    census=census.set_index('시도코드')\n",
    "    census=census['시도명칭']\n",
    "    census=census.drop_duplicates()\n",
    "    census_dict=census.to_dict()\n",
    "    return census_dict\n",
    "census_dict=make_census_dict(raw_census)\n",
    "\n",
    "#지역 구분 칼럼 추가\n",
    "def Region_col_add(row):\n",
    "    if int(row['SIGUNGU_CD'][:2]) in census_dict.keys():\n",
    "        region = census_dict.get(int(row['SIGUNGU_CD'][:2]), '')\n",
    "        return region\n"
   ]
  },
  {
   "cell_type": "code",
   "execution_count": null,
   "metadata": {},
   "outputs": [],
   "source": [
    "# 사용할 geopandas 데이터프레임 전처리\n",
    "location_label['SIGUNGU_NM'] = location_label.apply(update_dong, axis=1)\n",
    "location_label['Region'] = location_label.apply(Region_col_add, axis=1)\n",
    "location_label"
   ]
  },
  {
   "cell_type": "code",
   "execution_count": null,
   "metadata": {},
   "outputs": [],
   "source": [
    "data=[]\n",
    "for doc in cl_udrt_kakao_cdh.find({}, {\"uuid\": 1, \"category_name\": 1, \"place_name\": 1, 'x':1, 'y':1 ,\"_id\": 0}):\n",
    "    data.append({\"uuid\":doc[\"uuid\"], \"category_name\":doc[\"category_name\"], \"place_name\":doc[\"place_name\"], \"geometry\": Point(doc[\"x\"], doc[\"y\"])})\n",
    "\n",
    "gdf = gpd.GeoDataFrame(data, geometry=\"geometry\", crs=\"EPSG:4326\")\n",
    "gdf = gpd.sjoin(gdf, location_label, how=\"left\", predicate=\"within\")\n",
    "gdf = gdf[['uuid','category_name', 'place_name', 'SIGUNGU_NM']]\n",
    "gdf=gdf.rename(columns={'SIGUNGU_NM':'basic-unit'})\n",
    "gdf"
   ]
  },
  {
   "cell_type": "code",
   "execution_count": null,
   "metadata": {},
   "outputs": [],
   "source": [
    "# gdf의 각 행을 순회하며 MongoDB 업데이트 준비\n",
    "bulk_updates = []\n",
    "for idx, row in gdf.iterrows():\n",
    "    query = {\"category_name\": row[\"category_name\"], \"place_name\": row[\"place_name\"]} # 조건\n",
    "    update = {\"$set\": {\"basic-unit\": row[\"basic-unit\"]}}  # 추가할 필드\n",
    "\n",
    "    bulk_updates.append(UpdateMany(query, update))\n",
    "\n",
    "cl_kakao_category_visit=db[\"kakao_category_visit_test\"]\n",
    "if bulk_updates:\n",
    "    cl_kakao_category_visit.bulk_write(bulk_updates, ordered=False)\n",
    "\n",
    "print(f\"{len(bulk_updates)}개의 문서를 업데이트 완료\")"
   ]
  }
 ],
 "metadata": {
  "kernelspec": {
   "display_name": "wedrive",
   "language": "python",
   "name": "python3"
  },
  "language_info": {
   "codemirror_mode": {
    "name": "ipython",
    "version": 3
   },
   "file_extension": ".py",
   "mimetype": "text/x-python",
   "name": "python",
   "nbconvert_exporter": "python",
   "pygments_lexer": "ipython3",
   "version": "3.11.10"
  }
 },
 "nbformat": 4,
 "nbformat_minor": 2
}
