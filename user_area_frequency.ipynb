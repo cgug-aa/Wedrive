{
 "cells": [
  {
   "cell_type": "markdown",
   "metadata": {},
   "source": [
    "~~##### user_coordinate_area_20~24에서 사용자별 지역 방문수 확인~~   \n",
    "##### -> user_coordinate_area_2020,2021,2022,2023,2024 연도별 지역 방문수 카운팅\n"
   ]
  },
  {
   "cell_type": "code",
   "execution_count": null,
   "metadata": {},
   "outputs": [],
   "source": [
    "import os\n",
    "from dotenv import load_dotenv\n",
    "from pymongo import MongoClient"
   ]
  },
  {
   "cell_type": "code",
   "execution_count": null,
   "metadata": {},
   "outputs": [],
   "source": [
    "# 데이터베이스 연결\n",
    "load_dotenv()\n",
    "client = MongoClient(os.getenv('DB_ADR'),\n",
    "          username=os.getenv('DB_USER'),\n",
    "          password=os.getenv('DB_PASSWORD'),\n",
    "          authSource=os.getenv('DB_AuthSource'),\n",
    "          authMechanism=os.getenv('DB_AuthMechanism'))\n",
    "db = client.get_database(os.getenv('DB_Collection'))"
   ]
  },
  {
   "cell_type": "code",
   "execution_count": null,
   "metadata": {},
   "outputs": [],
   "source": [
    "#컬렉션 정보\n",
    "years=['2020', '2021','2022','2023','2024']\n",
    "result_collection='user_area_frequency'"
   ]
  },
  {
   "cell_type": "code",
   "execution_count": null,
   "metadata": {},
   "outputs": [],
   "source": [
    "#빈도수 계산\n",
    "years=['2020', '2021','2022','2023','2024']\n",
    "result_collection='user_area_frequency'\n",
    "for year in years:\n",
    "    cl=db.get_collection('user_coordinate_area_'+year)\n",
    "    result_collection='user_area_frequency_'+year\n",
    "    cl.aggregate([\n",
    "        {\n",
    "            \"$match\": {\n",
    "                \"region\": { \"$ne\": float('nan') }  # NaN 값 제외\n",
    "            }\n",
    "        },\n",
    "        {\n",
    "            \"$group\": {\n",
    "                \"_id\": {\n",
    "                    \"uuid\": \"$uuid\",\n",
    "                    \"region\": \"$region\",\n",
    "                    \"destination_area\": \"$destination_area\"\n",
    "                },\n",
    "                \"count\": { \"$sum\": 1 }  # 빈도수 계산\n",
    "            }\n",
    "        },\n",
    "        {\n",
    "            \"$project\": {\n",
    "                \"_id\": 0, \n",
    "                \"uuid\": \"$_id.uuid\",\n",
    "                \"wide-area\": \"$_id.region\",\n",
    "                \"basic-unit\": \"$_id.destination_area\",\n",
    "                \"frequency\": \"$count\"\n",
    "            }\n",
    "        },\n",
    "        {\n",
    "            \"$out\": result_collection  # 새로운 컬렉션으로 저장\n",
    "        }\n",
    "    ])"
   ]
  }
 ],
 "metadata": {
  "kernelspec": {
   "display_name": "wedrive",
   "language": "python",
   "name": "python3"
  },
  "language_info": {
   "codemirror_mode": {
    "name": "ipython",
    "version": 3
   },
   "file_extension": ".py",
   "mimetype": "text/x-python",
   "name": "python",
   "nbconvert_exporter": "python",
   "pygments_lexer": "ipython3",
   "version": "3.11.10"
  }
 },
 "nbformat": 4,
 "nbformat_minor": 2
}
