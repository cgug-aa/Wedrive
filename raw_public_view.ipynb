{
 "cells": [
  {
   "cell_type": "code",
   "execution_count": 3,
   "metadata": {},
   "outputs": [],
   "source": [
    "import os\n",
    "import pandas as pd"
   ]
  },
  {
   "cell_type": "code",
   "execution_count": null,
   "metadata": {},
   "outputs": [],
   "source": [
    "# 작업 디렉터리 이동\n",
    "#os.chdir('../')\n",
    "\n",
    "# 사용 데이터 불러오기\n",
    "filename=os.getcwd()+'/data/전국음식점 데이터/fulldata_07_24_05_P_휴게음식점.csv'"
   ]
  },
  {
   "cell_type": "code",
   "execution_count": 5,
   "metadata": {},
   "outputs": [
    {
     "name": "stderr",
     "output_type": "stream",
     "text": [
      "C:\\Users\\11\\AppData\\Local\\Temp\\ipykernel_1452\\2019571038.py:1: DtypeWarning: Columns (11,39,44,45) have mixed types. Specify dtype option on import or set low_memory=False.\n",
      "  df=pd.read_csv(filename, encoding='cp949')\n"
     ]
    },
    {
     "data": {
      "text/html": [
       "<div>\n",
       "<style scoped>\n",
       "    .dataframe tbody tr th:only-of-type {\n",
       "        vertical-align: middle;\n",
       "    }\n",
       "\n",
       "    .dataframe tbody tr th {\n",
       "        vertical-align: top;\n",
       "    }\n",
       "\n",
       "    .dataframe thead th {\n",
       "        text-align: right;\n",
       "    }\n",
       "</style>\n",
       "<table border=\"1\" class=\"dataframe\">\n",
       "  <thead>\n",
       "    <tr style=\"text-align: right;\">\n",
       "      <th></th>\n",
       "      <th>업태구분명</th>\n",
       "      <th>위생업태명</th>\n",
       "      <th>전통업소주된음식</th>\n",
       "    </tr>\n",
       "  </thead>\n",
       "  <tbody>\n",
       "    <tr>\n",
       "      <th>0</th>\n",
       "      <td>기타 휴게음식점</td>\n",
       "      <td>기타 휴게음식점</td>\n",
       "      <td>NaN</td>\n",
       "    </tr>\n",
       "    <tr>\n",
       "      <th>1</th>\n",
       "      <td>기타 휴게음식점</td>\n",
       "      <td>기타 휴게음식점</td>\n",
       "      <td>NaN</td>\n",
       "    </tr>\n",
       "    <tr>\n",
       "      <th>2</th>\n",
       "      <td>기타 휴게음식점</td>\n",
       "      <td>기타 휴게음식점</td>\n",
       "      <td>NaN</td>\n",
       "    </tr>\n",
       "    <tr>\n",
       "      <th>3</th>\n",
       "      <td>기타 휴게음식점</td>\n",
       "      <td>기타 휴게음식점</td>\n",
       "      <td>NaN</td>\n",
       "    </tr>\n",
       "    <tr>\n",
       "      <th>4</th>\n",
       "      <td>기타 휴게음식점</td>\n",
       "      <td>기타 휴게음식점</td>\n",
       "      <td>NaN</td>\n",
       "    </tr>\n",
       "    <tr>\n",
       "      <th>...</th>\n",
       "      <td>...</td>\n",
       "      <td>...</td>\n",
       "      <td>...</td>\n",
       "    </tr>\n",
       "    <tr>\n",
       "      <th>589382</th>\n",
       "      <td>편의점</td>\n",
       "      <td>편의점</td>\n",
       "      <td>NaN</td>\n",
       "    </tr>\n",
       "    <tr>\n",
       "      <th>589383</th>\n",
       "      <td>일반조리판매</td>\n",
       "      <td>일반조리판매</td>\n",
       "      <td>NaN</td>\n",
       "    </tr>\n",
       "    <tr>\n",
       "      <th>589384</th>\n",
       "      <td>일반조리판매</td>\n",
       "      <td>일반조리판매</td>\n",
       "      <td>NaN</td>\n",
       "    </tr>\n",
       "    <tr>\n",
       "      <th>589385</th>\n",
       "      <td>기타 휴게음식점</td>\n",
       "      <td>기타 휴게음식점</td>\n",
       "      <td>NaN</td>\n",
       "    </tr>\n",
       "    <tr>\n",
       "      <th>589386</th>\n",
       "      <td>일반조리판매</td>\n",
       "      <td>일반조리판매</td>\n",
       "      <td>NaN</td>\n",
       "    </tr>\n",
       "  </tbody>\n",
       "</table>\n",
       "<p>589387 rows × 3 columns</p>\n",
       "</div>"
      ],
      "text/plain": [
       "           업태구분명     위생업태명 전통업소주된음식\n",
       "0       기타 휴게음식점  기타 휴게음식점      NaN\n",
       "1       기타 휴게음식점  기타 휴게음식점      NaN\n",
       "2       기타 휴게음식점  기타 휴게음식점      NaN\n",
       "3       기타 휴게음식점  기타 휴게음식점      NaN\n",
       "4       기타 휴게음식점  기타 휴게음식점      NaN\n",
       "...          ...       ...      ...\n",
       "589382       편의점       편의점      NaN\n",
       "589383    일반조리판매    일반조리판매      NaN\n",
       "589384    일반조리판매    일반조리판매      NaN\n",
       "589385  기타 휴게음식점  기타 휴게음식점      NaN\n",
       "589386    일반조리판매    일반조리판매      NaN\n",
       "\n",
       "[589387 rows x 3 columns]"
      ]
     },
     "execution_count": 5,
     "metadata": {},
     "output_type": "execute_result"
    }
   ],
   "source": [
    "df=pd.read_csv(filename, encoding='cp949')\n",
    "dataframe=df[['업태구분명','위생업태명', '전통업소주된음식']]\n",
    "dataframe"
   ]
  },
  {
   "cell_type": "code",
   "execution_count": 9,
   "metadata": {},
   "outputs": [
    {
     "data": {
      "text/plain": [
       "업태구분명\n",
       "커피숍         175149\n",
       "기타 휴게음식점    105016\n",
       "일반조리판매       91061\n",
       "다방           79909\n",
       "편의점          55466\n",
       "패스트푸드        31365\n",
       "과자점          23421\n",
       "백화점           8310\n",
       "푸드트럭          7408\n",
       "아이스크림         3302\n",
       "전통찻집          2797\n",
       "키즈카페          1378\n",
       "떡카페           1371\n",
       "고속도로          1323\n",
       "철도역구내          780\n",
       "유원지            711\n",
       "관광호텔           253\n",
       "극장             231\n",
       "공항              86\n",
       "한식              11\n",
       "분식               8\n",
       "기타               4\n",
       "김밥(도시락)          2\n",
       "호프/통닭            2\n",
       "룸살롱              1\n",
       "식품소분업            1\n",
       "까페               1\n",
       "경양식              1\n",
       "식육(숯불구이)         1\n",
       "단란주점             1\n",
       "Name: count, dtype: int64"
      ]
     },
     "execution_count": 9,
     "metadata": {},
     "output_type": "execute_result"
    }
   ],
   "source": [
    "# 업태구분명 값 카운팅\n",
    "index_name=dataframe['업태구분명'].value_counts()\n",
    "index_name"
   ]
  },
  {
   "cell_type": "code",
   "execution_count": 7,
   "metadata": {},
   "outputs": [
    {
     "data": {
      "text/plain": [
       "위생업태명\n",
       "커피숍         174287\n",
       "기타 휴게음식점    104559\n",
       "일반조리판매       90807\n",
       "다방           79899\n",
       "편의점          55234\n",
       "패스트푸드        31303\n",
       "과자점          23419\n",
       "백화점           8282\n",
       "푸드트럭          7393\n",
       "아이스크림         3294\n",
       "전통찻집          2794\n",
       "키즈카페          1371\n",
       "떡카페           1361\n",
       "고속도로          1323\n",
       "철도역구내          778\n",
       "유원지            711\n",
       "관광호텔           253\n",
       "극장             231\n",
       "공항              86\n",
       "한식              11\n",
       "분식               8\n",
       "기타               4\n",
       "김밥(도시락)          2\n",
       "호프/통닭            2\n",
       "룸살롱              1\n",
       "식품소분업            1\n",
       "까페               1\n",
       "경양식              1\n",
       "식육(숯불구이)         1\n",
       "단란주점             1\n",
       "Name: count, dtype: int64"
      ]
     },
     "execution_count": 7,
     "metadata": {},
     "output_type": "execute_result"
    }
   ],
   "source": [
    "# 위생업태명 값 카운팅\n",
    "index_name2=dataframe['위생업태명'].value_counts()\n",
    "index_name2"
   ]
  },
  {
   "cell_type": "code",
   "execution_count": 8,
   "metadata": {},
   "outputs": [
    {
     "data": {
      "text/plain": [
       "전통업소주된음식\n",
       "`       1\n",
       "0.0     1\n",
       "피자      1\n",
       "과자,빵    1\n",
       "갈비탕     1\n",
       "전통차     1\n",
       "커피      1\n",
       "Name: count, dtype: int64"
      ]
     },
     "execution_count": 8,
     "metadata": {},
     "output_type": "execute_result"
    }
   ],
   "source": [
    "# 전통업소주된음식 값 카운팅\n",
    "index_name3=dataframe['전통업소주된음식'].value_counts()\n",
    "index_name3"
   ]
  },
  {
   "cell_type": "code",
   "execution_count": null,
   "metadata": {},
   "outputs": [],
   "source": []
  }
 ],
 "metadata": {
  "kernelspec": {
   "display_name": "wedrive",
   "language": "python",
   "name": "python3"
  },
  "language_info": {
   "codemirror_mode": {
    "name": "ipython",
    "version": 3
   },
   "file_extension": ".py",
   "mimetype": "text/x-python",
   "name": "python",
   "nbconvert_exporter": "python",
   "pygments_lexer": "ipython3",
   "version": "3.11.10"
  }
 },
 "nbformat": 4,
 "nbformat_minor": 2
}
