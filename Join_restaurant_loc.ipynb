{
 "cells": [
  {
   "cell_type": "code",
   "execution_count": 1,
   "metadata": {},
   "outputs": [],
   "source": [
    "# 라이브러리 임포트\n",
    "import os\n",
    "from pymongo import MongoClient\n",
    "from pyproj import Transformer\n"
   ]
  },
  {
   "cell_type": "code",
   "execution_count": 2,
   "metadata": {},
   "outputs": [],
   "source": [
    "# MongoDB 연결하기\n",
    "client = MongoClient('@@@',\n",
    "          username='@@@',\n",
    "          password='@@@',\n",
    "          authSource='admin',\n",
    "          authMechanism='SCRAM-SHA-256')\n",
    "\n",
    "database = client.get_database('Wedrive2024')\n",
    "\n",
    "# 사용자 정보\n",
    "collection_user = database.get_collection('user_coordinate_area')\n",
    "users=collection_user.find()\n",
    "\n",
    "# 음식점 정보\n",
    "collection_public = database.get_collection('raw_public_05')\n",
    "restaurants=collection_user.find()\n",
    "\n",
    "# 새로 만들 컬렐션\n",
    "collection_new = database.get_collection('User_destination_restaurant')"
   ]
  },
  {
   "cell_type": "code",
   "execution_count": 3,
   "metadata": {},
   "outputs": [],
   "source": [
    "# 위성좌표변환 (EPSG:5174 (Korea 2000 / Unified CS) -> EPSG:4326 (WGS84))\n",
    "transformer = Transformer.from_crs(\"EPSG:5174\", \"EPSG:4326\", always_xy=True)\n",
    "def transformer_to_epsg4326(x, y):              #x,y는 좌표정보(5174)\n",
    "    lon, lat = transformer.transform(x, y)\n",
    "    return [round(lat,4),round(lon,4)]"
   ]
  },
  {
   "cell_type": "code",
   "execution_count": null,
   "metadata": {},
   "outputs": [],
   "source": [
    "# collection_user에서 좌표에 해당하는 값을 collection_restaurant에서 확인하여 존재하면 DB에 삽입\n",
    "for user in users:\n",
    "    user_a, user_b= round(users[0]['destination_lat'], 4), round(users[0]['destination_lng'],4)\n",
    "    for restaurant in restaurants:\n",
    "        re_a, re_b=transformer_to_epsg4326(restaurant['좌표정보x(epsg5174)'], restaurant['좌표정보y(epsg5174)'])\n",
    "        if user_a==re_a and user_b==re_b:\n",
    "            docs=user"
   ]
  },
  {
   "cell_type": "code",
   "execution_count": 5,
   "metadata": {},
   "outputs": [
    {
     "data": {
      "text/plain": [
       "(35.8143, 128.5262)"
      ]
     },
     "execution_count": 5,
     "metadata": {},
     "output_type": "execute_result"
    }
   ],
   "source": [
    "a, b= round(users[0]['destination_lat'], 4), round(users[0]['destination_lng'],4)\n",
    "a, b"
   ]
  }
 ],
 "metadata": {
  "kernelspec": {
   "display_name": "wedrive",
   "language": "python",
   "name": "python3"
  },
  "language_info": {
   "codemirror_mode": {
    "name": "ipython",
    "version": 3
   },
   "file_extension": ".py",
   "mimetype": "text/x-python",
   "name": "python",
   "nbconvert_exporter": "python",
   "pygments_lexer": "ipython3",
   "version": "3.11.10"
  }
 },
 "nbformat": 4,
 "nbformat_minor": 2
}
