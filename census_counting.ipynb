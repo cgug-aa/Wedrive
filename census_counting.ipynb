{
 "cells": [
  {
   "cell_type": "markdown",
   "metadata": {},
   "source": [
    "#### 특정 유저 지역 카운팅"
   ]
  },
  {
   "cell_type": "code",
   "execution_count": null,
   "metadata": {},
   "outputs": [
    {
     "data": {
      "text/plain": [
       "'c:\\\\Users\\\\11\\\\Desktop\\\\LCG\\\\Programming\\\\project\\\\wedrive'"
      ]
     },
     "execution_count": 5,
     "metadata": {},
     "output_type": "execute_result"
    }
   ],
   "source": [
    "import os\n",
    "import pandas as pd\n",
    "\n",
    "os.chdir('../')\n",
    "#os.getcwd()"
   ]
  },
  {
   "cell_type": "code",
   "execution_count": 6,
   "metadata": {},
   "outputs": [],
   "source": [
    "#데이터 경로\n",
    "data_path=os.getcwd()+'/data/od_uuid_census/2024/4c17f6c58d754094ba612cef51945447.csv'\n",
    "census_data=pd.read_csv(data_path)"
   ]
  },
  {
   "cell_type": "code",
   "execution_count": 7,
   "metadata": {},
   "outputs": [
    {
     "data": {
      "text/plain": [
       "['과천시',\n",
       " '노원구',\n",
       " '강동구',\n",
       " '구리시',\n",
       " '송파구',\n",
       " '중랑구',\n",
       " '용산구',\n",
       " '영등포구',\n",
       " '중구',\n",
       " '서초구',\n",
       " '종로구',\n",
       " '동작구',\n",
       " '남양주시',\n",
       " '은평구',\n",
       " '강남구',\n",
       " '성동구',\n",
       " '하남시',\n",
       " '서대문구',\n",
       " '성북구',\n",
       " '동대문구',\n",
       " '광진구',\n",
       " '마포구']"
      ]
     },
     "execution_count": 7,
     "metadata": {},
     "output_type": "execute_result"
    }
   ],
   "source": [
    "census_set=set()\n",
    "census_set.update(set(census_data['start_loc'].unique().tolist()))\n",
    "census_set.update(set(census_data['end_loc'].unique().tolist()))\n",
    "census_list=list(census_set)\n",
    "census_list"
   ]
  },
  {
   "cell_type": "code",
   "execution_count": 8,
   "metadata": {},
   "outputs": [
    {
     "data": {
      "text/plain": [
       "Counter({'광진구': 6256,\n",
       "         '강남구': 1966,\n",
       "         '성동구': 1750,\n",
       "         '중구': 1000,\n",
       "         '서초구': 755,\n",
       "         '구리시': 551,\n",
       "         '종로구': 542,\n",
       "         '용산구': 354,\n",
       "         '송파구': 231,\n",
       "         '동대문구': 96,\n",
       "         '강동구': 86,\n",
       "         '서대문구': 83,\n",
       "         '마포구': 79,\n",
       "         '중랑구': 77,\n",
       "         '성북구': 45,\n",
       "         '남양주시': 12,\n",
       "         '동작구': 12,\n",
       "         '노원구': 8,\n",
       "         '은평구': 4,\n",
       "         '영등포구': 4,\n",
       "         '하남시': 2,\n",
       "         '과천시': 1})"
      ]
     },
     "execution_count": 8,
     "metadata": {},
     "output_type": "execute_result"
    }
   ],
   "source": [
    "# 카운팅 하기\n",
    "from collections import Counter\n",
    "\n",
    "start_dict=Counter(census_data['start_loc'])\n",
    "end_dict=Counter(census_data['end_loc'])\n",
    "total_count=start_dict+end_dict\n",
    "total_count"
   ]
  },
  {
   "cell_type": "code",
   "execution_count": 10,
   "metadata": {},
   "outputs": [
    {
     "data": {
      "text/html": [
       "<div>\n",
       "<style scoped>\n",
       "    .dataframe tbody tr th:only-of-type {\n",
       "        vertical-align: middle;\n",
       "    }\n",
       "\n",
       "    .dataframe tbody tr th {\n",
       "        vertical-align: top;\n",
       "    }\n",
       "\n",
       "    .dataframe thead th {\n",
       "        text-align: right;\n",
       "    }\n",
       "</style>\n",
       "<table border=\"1\" class=\"dataframe\">\n",
       "  <thead>\n",
       "    <tr style=\"text-align: right;\">\n",
       "      <th></th>\n",
       "      <th>location</th>\n",
       "      <th>count</th>\n",
       "    </tr>\n",
       "  </thead>\n",
       "  <tbody>\n",
       "    <tr>\n",
       "      <th>0</th>\n",
       "      <td>광진구</td>\n",
       "      <td>6256</td>\n",
       "    </tr>\n",
       "    <tr>\n",
       "      <th>1</th>\n",
       "      <td>강남구</td>\n",
       "      <td>1966</td>\n",
       "    </tr>\n",
       "    <tr>\n",
       "      <th>2</th>\n",
       "      <td>성동구</td>\n",
       "      <td>1750</td>\n",
       "    </tr>\n",
       "    <tr>\n",
       "      <th>3</th>\n",
       "      <td>중구</td>\n",
       "      <td>1000</td>\n",
       "    </tr>\n",
       "    <tr>\n",
       "      <th>4</th>\n",
       "      <td>서초구</td>\n",
       "      <td>755</td>\n",
       "    </tr>\n",
       "    <tr>\n",
       "      <th>5</th>\n",
       "      <td>구리시</td>\n",
       "      <td>551</td>\n",
       "    </tr>\n",
       "    <tr>\n",
       "      <th>6</th>\n",
       "      <td>종로구</td>\n",
       "      <td>542</td>\n",
       "    </tr>\n",
       "    <tr>\n",
       "      <th>7</th>\n",
       "      <td>용산구</td>\n",
       "      <td>354</td>\n",
       "    </tr>\n",
       "    <tr>\n",
       "      <th>8</th>\n",
       "      <td>송파구</td>\n",
       "      <td>231</td>\n",
       "    </tr>\n",
       "    <tr>\n",
       "      <th>9</th>\n",
       "      <td>동대문구</td>\n",
       "      <td>96</td>\n",
       "    </tr>\n",
       "    <tr>\n",
       "      <th>10</th>\n",
       "      <td>강동구</td>\n",
       "      <td>86</td>\n",
       "    </tr>\n",
       "    <tr>\n",
       "      <th>11</th>\n",
       "      <td>서대문구</td>\n",
       "      <td>83</td>\n",
       "    </tr>\n",
       "    <tr>\n",
       "      <th>12</th>\n",
       "      <td>마포구</td>\n",
       "      <td>79</td>\n",
       "    </tr>\n",
       "    <tr>\n",
       "      <th>13</th>\n",
       "      <td>중랑구</td>\n",
       "      <td>77</td>\n",
       "    </tr>\n",
       "    <tr>\n",
       "      <th>14</th>\n",
       "      <td>성북구</td>\n",
       "      <td>45</td>\n",
       "    </tr>\n",
       "    <tr>\n",
       "      <th>15</th>\n",
       "      <td>남양주시</td>\n",
       "      <td>12</td>\n",
       "    </tr>\n",
       "    <tr>\n",
       "      <th>16</th>\n",
       "      <td>동작구</td>\n",
       "      <td>12</td>\n",
       "    </tr>\n",
       "    <tr>\n",
       "      <th>17</th>\n",
       "      <td>노원구</td>\n",
       "      <td>8</td>\n",
       "    </tr>\n",
       "    <tr>\n",
       "      <th>18</th>\n",
       "      <td>은평구</td>\n",
       "      <td>4</td>\n",
       "    </tr>\n",
       "    <tr>\n",
       "      <th>19</th>\n",
       "      <td>영등포구</td>\n",
       "      <td>4</td>\n",
       "    </tr>\n",
       "    <tr>\n",
       "      <th>20</th>\n",
       "      <td>하남시</td>\n",
       "      <td>2</td>\n",
       "    </tr>\n",
       "    <tr>\n",
       "      <th>21</th>\n",
       "      <td>과천시</td>\n",
       "      <td>1</td>\n",
       "    </tr>\n",
       "  </tbody>\n",
       "</table>\n",
       "</div>"
      ],
      "text/plain": [
       "   location  count\n",
       "0       광진구   6256\n",
       "1       강남구   1966\n",
       "2       성동구   1750\n",
       "3        중구   1000\n",
       "4       서초구    755\n",
       "5       구리시    551\n",
       "6       종로구    542\n",
       "7       용산구    354\n",
       "8       송파구    231\n",
       "9      동대문구     96\n",
       "10      강동구     86\n",
       "11     서대문구     83\n",
       "12      마포구     79\n",
       "13      중랑구     77\n",
       "14      성북구     45\n",
       "15     남양주시     12\n",
       "16      동작구     12\n",
       "17      노원구      8\n",
       "18      은평구      4\n",
       "19     영등포구      4\n",
       "20      하남시      2\n",
       "21      과천시      1"
      ]
     },
     "execution_count": 10,
     "metadata": {},
     "output_type": "execute_result"
    }
   ],
   "source": [
    "# 지역 카운팅 값 csv 파일 생성\n",
    "\n",
    "new_dataframe=pd.DataFrame(list(total_count.items()), columns=['location','count'])\n",
    "new_dataframe=new_dataframe.sort_values(by='count', ascending=False).reset_index(drop=True)\n",
    "\n",
    "#데이터 경로\n",
    "new_data_path=os.getcwd()+'/data/od_uuid_census/2024/counting/4c17f6c58d754094ba612cef51945447.csv'\n",
    "new_dataframe.to_csv(new_data_path)\n",
    "new_dataframe"
   ]
  }
 ],
 "metadata": {
  "kernelspec": {
   "display_name": "wedrive",
   "language": "python",
   "name": "python3"
  },
  "language_info": {
   "codemirror_mode": {
    "name": "ipython",
    "version": 3
   },
   "file_extension": ".py",
   "mimetype": "text/x-python",
   "name": "python",
   "nbconvert_exporter": "python",
   "pygments_lexer": "ipython3",
   "version": "3.11.10"
  }
 },
 "nbformat": 4,
 "nbformat_minor": 2
}
